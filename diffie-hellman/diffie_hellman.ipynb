{
 "cells": [
  {
   "attachments": {},
   "cell_type": "markdown",
   "metadata": {},
   "source": [
    "<h1>Diffie-Hellman Key Exchange 구현</h1>\n",
    "<h3>202235408 김경훈</h3>"
   ]
  },
  {
   "attachments": {},
   "cell_type": "markdown",
   "metadata": {},
   "source": [
    "<h2>① FieldElement(Zp) 사용을 위한 ecc import 및 랜덤성 부여를 위한 random import</h2>"
   ]
  },
  {
   "cell_type": "code",
   "execution_count": 1,
   "metadata": {},
   "outputs": [],
   "source": [
    "## add the \"value\" function to easly calculate value by using FieldElement in ecc.py\n",
    "\n",
    "import ecc\n",
    "import random\n",
    "from ecc import FieldElement"
   ]
  },
  {
   "attachments": {},
   "cell_type": "markdown",
   "metadata": {},
   "source": [
    "<h2>② 개인키(p보다 작은 랜덤 수) 생성 함수</h2>"
   ]
  },
  {
   "cell_type": "code",
   "execution_count": 2,
   "metadata": {},
   "outputs": [],
   "source": [
    "def make_private_key(p) :\n",
    "    private_key = random.randint(1, p - 1)\n",
    "    \n",
    "    return private_key"
   ]
  },
  {
   "attachments": {},
   "cell_type": "markdown",
   "metadata": {},
   "source": [
    "<h2>③ 공개키 생성 함수</h2>"
   ]
  },
  {
   "cell_type": "code",
   "execution_count": 3,
   "metadata": {},
   "outputs": [],
   "source": [
    "def make_public_key(g, private_key, p) :\n",
    "    g = FieldElement(g, p)\n",
    "    \n",
    "    public_key = g ** private_key\n",
    "    \n",
    "    return public_key.value()"
   ]
  },
  {
   "attachments": {},
   "cell_type": "markdown",
   "metadata": {},
   "source": [
    "<h2>④ 교환된 키 계산 함수</h2>"
   ]
  },
  {
   "cell_type": "code",
   "execution_count": 4,
   "metadata": {},
   "outputs": [],
   "source": [
    "def cal_swap_key(public_key, private_key, p) :\n",
    "    public_key = FieldElement(public_key, p)\n",
    "    \n",
    "    cal_key = public_key ** private_key\n",
    "    \n",
    "    return cal_key.value()"
   ]
  },
  {
   "attachments": {},
   "cell_type": "markdown",
   "metadata": {},
   "source": [
    "<h2>⑤ 결과 확인 함수</h2>"
   ]
  },
  {
   "cell_type": "code",
   "execution_count": 5,
   "metadata": {},
   "outputs": [],
   "source": [
    "def result_check(alice, bob, g, p) :\n",
    "    g = FieldElement(g, p)\n",
    "    \n",
    "    check = g ** (alice[0] * bob[0])\n",
    "    \n",
    "    check_value = check.value()\n",
    "    \n",
    "    k1 = alice[2]\n",
    "    k2 = bob[2]\n",
    "    \n",
    "    if (check_value == alice[2] and check_value == bob[2]) :\n",
    "        print(f\"Result ==> K1 : {k1} | K2 : {k2} | g^ab : {check_value}\")\n",
    "        \n",
    "    else :\n",
    "        print(\"Something is Wrong\")\n",
    "        exit()"
   ]
  },
  {
   "attachments": {},
   "cell_type": "markdown",
   "metadata": {},
   "source": [
    "<h2>⑥ 소수 p를 지정하고, 2 혹은 3 등의 적절한 값을 가지는 g를 입력하여 모든 과정 수행</h2>"
   ]
  },
  {
   "cell_type": "code",
   "execution_count": 8,
   "metadata": {},
   "outputs": [
    {
     "name": "stdout",
     "output_type": "stream",
     "text": [
      "Result ==> K1 : 18 | K2 : 18 | g^ab : 18\n"
     ]
    }
   ],
   "source": [
    "if __name__ == '__main__':\n",
    "    p = 59 ## custom prime number\n",
    "    g = int(input(\"Choose generator value (2 or 3) : \")) ## only input 2 or 3 for generator\n",
    "    \n",
    "    if (g != 2 and g != 3) :\n",
    "        print(\"Please choose value 2 or 3\")\n",
    "        \n",
    "        g = int(input(\"Choose generator value (2 or 3) : \"))\n",
    "        \n",
    "    alice = []\n",
    "    bob = []\n",
    "    \n",
    "    alice.append(make_private_key(p))\n",
    "    bob.append(make_private_key(p))\n",
    "    alice.append(make_public_key(g, alice[0], p))\n",
    "    bob.append(make_public_key(g, bob[0], p))\n",
    "    \n",
    "    alice.append(cal_swap_key(bob[1], alice[0], p))\n",
    "    bob.append(cal_swap_key(alice[1], bob[0], p))\n",
    "    \n",
    "    result_check(alice, bob, g, p)"
   ]
  }
 ],
 "metadata": {
  "kernelspec": {
   "display_name": "Python 3",
   "language": "python",
   "name": "python3"
  },
  "language_info": {
   "codemirror_mode": {
    "name": "ipython",
    "version": 3
   },
   "file_extension": ".py",
   "mimetype": "text/x-python",
   "name": "python",
   "nbconvert_exporter": "python",
   "pygments_lexer": "ipython3",
   "version": "3.10.5"
  },
  "orig_nbformat": 4
 },
 "nbformat": 4,
 "nbformat_minor": 2
}
