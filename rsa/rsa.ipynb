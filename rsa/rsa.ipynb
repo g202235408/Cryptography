{
 "cells": [
  {
   "attachments": {},
   "cell_type": "markdown",
   "metadata": {},
   "source": [
    "<h1>RSA 구현</h1>\n",
    "<h3>202235408 김경훈</h3>"
   ]
  },
  {
   "attachments": {},
   "cell_type": "markdown",
   "metadata": {},
   "source": [
    "<h2>① 랜덤성 부여를 위한 random import</h2>"
   ]
  },
  {
   "cell_type": "code",
   "execution_count": 2,
   "metadata": {},
   "outputs": [],
   "source": [
    "import random"
   ]
  },
  {
   "attachments": {},
   "cell_type": "markdown",
   "metadata": {},
   "source": [
    "<h2>② 기본 함수 구현 - Miller Rabin</h2>"
   ]
  },
  {
   "cell_type": "code",
   "execution_count": 3,
   "metadata": {},
   "outputs": [],
   "source": [
    "def miller_rabin(n, k) :\n",
    "    is_composite = False\n",
    "    is_prime = True\n",
    "    \n",
    "    if (n == 2) :\n",
    "        return False\n",
    "\n",
    "    if (n == 3) :\n",
    "        return True\n",
    "\n",
    "    t = 0\n",
    "    u = n - 1\n",
    "    \n",
    "    while (u % 2 == 0) :\n",
    "        t += 1\n",
    "        u //= 2\n",
    "        \n",
    "    for _ in range(0, k):\n",
    "        a = random.randrange(2, n - 2)\n",
    "        x = pow(a, u, n)\n",
    "        \n",
    "        for _ in range(0, t) :\n",
    "            y = pow(x, 2, n)\n",
    "            \n",
    "            if (y == 1 and x != 1 and x != n - 1) :\n",
    "                return is_composite\n",
    "            \n",
    "            x = y\n",
    "            \n",
    "        if (x != 1) :\n",
    "            return is_composite\n",
    "        \n",
    "    return is_prime"
   ]
  },
  {
   "attachments": {},
   "cell_type": "markdown",
   "metadata": {},
   "source": [
    "<h2>③ 기본 함수 구현 - GCD</h2>"
   ]
  },
  {
   "cell_type": "code",
   "execution_count": 4,
   "metadata": {},
   "outputs": [],
   "source": [
    "def gcd(m, n):\n",
    "    if n == 0:\n",
    "        return m\n",
    "    \n",
    "    mod = m % n\n",
    "    \n",
    "    if mod != 0:\n",
    "        m = n\n",
    "        n = mod\n",
    "        \n",
    "        return gcd(m, n)\n",
    "    \n",
    "    else:\n",
    "        return n"
   ]
  },
  {
   "attachments": {},
   "cell_type": "markdown",
   "metadata": {},
   "source": [
    "<h2>③ 기본 함수 구현 - ExtendedEuclidean</h2>"
   ]
  },
  {
   "cell_type": "code",
   "execution_count": 5,
   "metadata": {},
   "outputs": [],
   "source": [
    "def extended_euclidean(m, n) :\n",
    "    if (n == 0) :\n",
    "        return 1, 0\n",
    "        \n",
    "    tmp_s, tmp_t = extended_euclidean(n, m % n)\n",
    "    \n",
    "    s = tmp_t\n",
    "    t = tmp_s - tmp_t * (m // n)\n",
    "    \n",
    "    return s, t"
   ]
  },
  {
   "attachments": {},
   "cell_type": "markdown",
   "metadata": {},
   "source": [
    "<h2>④ 기본 함수 구현 - 지수 계산 함수 (교재 9장의 알고리즘)</h2>"
   ]
  },
  {
   "cell_type": "code",
   "execution_count": 6,
   "metadata": {},
   "outputs": [],
   "source": [
    "def exponent_cal(a, b, n) :\n",
    "    bk = bin(b)[2:len(bin(b))]\n",
    "    bin_b = []\n",
    "    k = len(bk)\n",
    "    c = 0\n",
    "    f = 1\n",
    "    \n",
    "    for i in bk :\n",
    "        bin_b.append(int(i))\n",
    "    \n",
    "    bin_b.reverse()\n",
    "    \n",
    "    for i in range(k, 0, -1) :\n",
    "        c *= 2\n",
    "        f = (f * f) % n\n",
    "        \n",
    "        if (bin_b[i - 1] == 1) :\n",
    "            c += 1\n",
    "            f = (f * a) % n\n",
    "            \n",
    "    return f"
   ]
  },
  {
   "attachments": {},
   "cell_type": "markdown",
   "metadata": {},
   "source": [
    "<h2>⑤ 기본 함수 구현 - 중국인의 나머지 정리를 이용한 지수 계산 함수</h2>"
   ]
  },
  {
   "cell_type": "code",
   "execution_count": 27,
   "metadata": {},
   "outputs": [],
   "source": [
    "def exponent_cal_crt(a, b, n, prime1, prime2) :\n",
    "    if (n == 1) :\n",
    "        return 0\n",
    "    \n",
    "    p = prime1\n",
    "    q = prime2\n",
    "    \n",
    "    cal1 = exponent_cal(a, b, p)\n",
    "    cal2 = exponent_cal(a, b, q)\n",
    "    \n",
    "    result = (cal1 * q * pow(q, -1, p) + cal2 * p * pow(p, -1, q)) % n\n",
    "    \n",
    "    return result"
   ]
  },
  {
   "attachments": {},
   "cell_type": "markdown",
   "metadata": {},
   "source": [
    "<h2>⑥ 소수 생성 함수</h2>"
   ]
  },
  {
   "cell_type": "code",
   "execution_count": 8,
   "metadata": {},
   "outputs": [],
   "source": [
    "def make_prime() :\n",
    "    while(True) :\n",
    "        prime = random.randint(1, 9999)\n",
    "        \n",
    "        if (miller_rabin(prime, 5) == 1) :\n",
    "            break\n",
    "        \n",
    "        else :\n",
    "            continue\n",
    "            \n",
    "    return prime"
   ]
  },
  {
   "attachments": {},
   "cell_type": "markdown",
   "metadata": {},
   "source": [
    "<h2>⑦ 키 생성 함수</h2>"
   ]
  },
  {
   "cell_type": "code",
   "execution_count": 9,
   "metadata": {},
   "outputs": [],
   "source": [
    "def make_key(p, q) :\n",
    "    n = p * q\n",
    "     \n",
    "    while(True) :\n",
    "        e = random.randint(1, 65537)\n",
    "        \n",
    "        if (e % 2 == 1) :\n",
    "            break\n",
    "        \n",
    "        else :\n",
    "            continue \n",
    "        \n",
    "    print(\"GCD(e, p-1) : \", gcd(e, p-1))\n",
    "    print(\"GCD(e, q-1) : \", gcd(e, q-1))\n",
    "    \n",
    "    if (gcd(e, p - 1) != 1 and gcd(e, q - 1) != 1) :\n",
    "        print(\"Error : please make other prime for p or q\")\n",
    "        \n",
    "        exit()\n",
    "    \n",
    "    result = extended_euclidean(e, (p - 1) * (q - 1))\n",
    "    d = result[0]\n",
    "    \n",
    "    if (d < 0) :\n",
    "        d += (p - 1) * (q - 1)\n",
    "    \n",
    "    public_key = (e, n)\n",
    "    private_key = (d, p, q)\n",
    "    \n",
    "    return public_key, private_key"
   ]
  },
  {
   "attachments": {},
   "cell_type": "markdown",
   "metadata": {},
   "source": [
    "<h2>⑧ 메시지 생성 함수</h2>"
   ]
  },
  {
   "cell_type": "code",
   "execution_count": 30,
   "metadata": {},
   "outputs": [],
   "source": [
    "def make_msg() :\n",
    "    M = 0\n",
    "    msg = input(\"Enter your msg : \")\n",
    "    \n",
    "    for m in msg :\n",
    "        M += ord(m)\n",
    "        M += ord(\"/\")\n",
    "        \n",
    "    return M"
   ]
  },
  {
   "attachments": {},
   "cell_type": "markdown",
   "metadata": {},
   "source": [
    "<h2>⑨ 메시지 암호화 함수</h2>"
   ]
  },
  {
   "cell_type": "code",
   "execution_count": 11,
   "metadata": {},
   "outputs": [],
   "source": [
    "def msg_encrypt(msg, public_key) :\n",
    "    e = public_key[0]\n",
    "    n = public_key[1]\n",
    "    \n",
    "    cipher = exponent_cal(msg, e, n)\n",
    "    \n",
    "    return cipher"
   ]
  },
  {
   "attachments": {},
   "cell_type": "markdown",
   "metadata": {},
   "source": [
    "<h2>⑩ - ⒧ 메시지 복호화 함수 - 일반</h2>"
   ]
  },
  {
   "cell_type": "code",
   "execution_count": 12,
   "metadata": {},
   "outputs": [],
   "source": [
    "def msg_decrypt(cipher, public_key, private_key) :\n",
    "    n = public_key[1]\n",
    "    d = private_key[0]\n",
    "    \n",
    "    dmsg = exponent_cal(cipher, d, n)\n",
    "    \n",
    "    return dmsg"
   ]
  },
  {
   "attachments": {},
   "cell_type": "markdown",
   "metadata": {},
   "source": [
    "<h2>⑩ - ⑵ 메시지 복호화 함수 - 중국인의 나머지 정리 이용</h2>"
   ]
  },
  {
   "cell_type": "code",
   "execution_count": 26,
   "metadata": {},
   "outputs": [],
   "source": [
    "def msg_decrypt_crt(cipher, public_key, private_key, p, q) :\n",
    "    n = public_key[1]\n",
    "    d = private_key[0]\n",
    "    \n",
    "    dmsg = exponent_cal_crt(cipher, d, n, p, q)\n",
    "    \n",
    "    return dmsg"
   ]
  },
  {
   "attachments": {},
   "cell_type": "markdown",
   "metadata": {},
   "source": [
    "<h2>⑪ 평문과 복호화된 평문 비교 출력 함수</h2>"
   ]
  },
  {
   "cell_type": "code",
   "execution_count": 38,
   "metadata": {},
   "outputs": [],
   "source": [
    "def compare_msg(msg, dmsg) :  \n",
    "    print(f\"Plain Text (number value) : {msg}\")\n",
    "    print(f\"Decrypted Plain Text (number value) : {dmsg}\")"
   ]
  },
  {
   "attachments": {},
   "cell_type": "markdown",
   "metadata": {},
   "source": [
    "<h2>■ 소수 p, q 생성</h2>"
   ]
  },
  {
   "cell_type": "code",
   "execution_count": 15,
   "metadata": {},
   "outputs": [
    {
     "name": "stdout",
     "output_type": "stream",
     "text": [
      "p : 67, q : 9781\n"
     ]
    }
   ],
   "source": [
    "p = make_prime()\n",
    "q = make_prime()\n",
    "\n",
    "print(f\"p : {p}, q : {q}\")"
   ]
  },
  {
   "attachments": {},
   "cell_type": "markdown",
   "metadata": {},
   "source": [
    "<h2>■ 임의의 메세지 생성</h2>"
   ]
  },
  {
   "cell_type": "code",
   "execution_count": 31,
   "metadata": {},
   "outputs": [
    {
     "name": "stdout",
     "output_type": "stream",
     "text": [
      "703\n"
     ]
    }
   ],
   "source": [
    "msg = make_msg()\n",
    "\n",
    "print(msg)"
   ]
  },
  {
   "attachments": {},
   "cell_type": "markdown",
   "metadata": {},
   "source": [
    "<h2>■ 키 생성</h2>\n",
    "<h3>- 키 생성 과정에서 gcd(e, p - 1) 혹은 gcd(e, q - 1)의 값이 1이 아닌 경우 프로그램 종료 후 새로운 소수를 생성하라는 안내 문구 출력 </h3>"
   ]
  },
  {
   "cell_type": "code",
   "execution_count": 32,
   "metadata": {},
   "outputs": [
    {
     "name": "stdout",
     "output_type": "stream",
     "text": [
      "GCD(e, p-1) :  1\n",
      "GCD(e, q-1) :  1\n",
      "(39883, 655327)\n",
      "(433627, 67, 9781)\n"
     ]
    }
   ],
   "source": [
    "key_set = make_key(p, q)\n",
    "\n",
    "public_key = key_set[0]\n",
    "private_key = key_set[1]\n",
    "\n",
    "print(public_key)\n",
    "print(private_key)"
   ]
  },
  {
   "attachments": {},
   "cell_type": "markdown",
   "metadata": {},
   "source": [
    "<h2>■ 메시지 암호화</h2>"
   ]
  },
  {
   "cell_type": "code",
   "execution_count": 33,
   "metadata": {},
   "outputs": [
    {
     "name": "stdout",
     "output_type": "stream",
     "text": [
      "349173\n"
     ]
    }
   ],
   "source": [
    "encryption = msg_encrypt(msg, public_key)\n",
    "\n",
    "print(encryption)"
   ]
  },
  {
   "attachments": {},
   "cell_type": "markdown",
   "metadata": {},
   "source": [
    "<h2>■ 메시지 복호화 (중국인의 나머지 정리 이용 X)</h2>"
   ]
  },
  {
   "cell_type": "code",
   "execution_count": 34,
   "metadata": {},
   "outputs": [
    {
     "name": "stdout",
     "output_type": "stream",
     "text": [
      "703\n"
     ]
    }
   ],
   "source": [
    "decryption = msg_decrypt(encryption, public_key, private_key)\n",
    "\n",
    "print(decryption)"
   ]
  },
  {
   "attachments": {},
   "cell_type": "markdown",
   "metadata": {},
   "source": [
    "<h2>■ 메시지 복호화 (중국인의 나머지 정리 이용)</h2>"
   ]
  },
  {
   "cell_type": "code",
   "execution_count": 35,
   "metadata": {},
   "outputs": [
    {
     "name": "stdout",
     "output_type": "stream",
     "text": [
      "703\n"
     ]
    }
   ],
   "source": [
    "decryption_crt = msg_decrypt_crt(encryption, public_key, private_key, p, q)\n",
    "\n",
    "print(decryption_crt)"
   ]
  },
  {
   "attachments": {},
   "cell_type": "markdown",
   "metadata": {},
   "source": [
    "<h2>■ 평문과 복호화된 평문 비교</h2>"
   ]
  },
  {
   "cell_type": "code",
   "execution_count": 42,
   "metadata": {},
   "outputs": [
    {
     "name": "stdout",
     "output_type": "stream",
     "text": [
      "Plain Text (number value) : 703\n",
      "Decrypted Plain Text (number value) : 703\n"
     ]
    }
   ],
   "source": [
    "compare_msg(msg, decryption)"
   ]
  }
 ],
 "metadata": {
  "kernelspec": {
   "display_name": "Python 3",
   "language": "python",
   "name": "python3"
  },
  "language_info": {
   "codemirror_mode": {
    "name": "ipython",
    "version": 3
   },
   "file_extension": ".py",
   "mimetype": "text/x-python",
   "name": "python",
   "nbconvert_exporter": "python",
   "pygments_lexer": "ipython3",
   "version": "3.10.5"
  },
  "orig_nbformat": 4
 },
 "nbformat": 4,
 "nbformat_minor": 2
}
